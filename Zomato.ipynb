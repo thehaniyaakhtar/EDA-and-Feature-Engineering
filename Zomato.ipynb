{
  "nbformat": 4,
  "nbformat_minor": 0,
  "metadata": {
    "colab": {
      "private_outputs": true,
      "provenance": []
    },
    "kernelspec": {
      "name": "python3",
      "display_name": "Python 3"
    },
    "language_info": {
      "name": "python"
    }
  },
  "cells": [
    {
      "cell_type": "code",
      "execution_count": null,
      "metadata": {
        "id": "92TQ-FyxlQ5-"
      },
      "outputs": [],
      "source": [
        "import numpy as np\n",
        "import pandas as pd\n",
        "import matplotlib.pyplot as plt\n",
        "import seaborn as sns\n",
        "%matplotlib inline"
      ]
    },
    {
      "cell_type": "code",
      "source": [
        "df = pd.read_csv(\"/content/zomato.csv\", encoding = 'latin-1')"
      ],
      "metadata": {
        "id": "3tM90j3bnmY0"
      },
      "execution_count": null,
      "outputs": []
    },
    {
      "cell_type": "code",
      "source": [
        "df.head()"
      ],
      "metadata": {
        "id": "g9x9UHbenysj"
      },
      "execution_count": null,
      "outputs": []
    },
    {
      "cell_type": "code",
      "source": [
        "df.columns"
      ],
      "metadata": {
        "id": "1AlwTlbkn70m"
      },
      "execution_count": null,
      "outputs": []
    },
    {
      "cell_type": "code",
      "source": [
        "df.info()"
      ],
      "metadata": {
        "id": "W4Mp58IkoVRO"
      },
      "execution_count": null,
      "outputs": []
    },
    {
      "cell_type": "code",
      "source": [
        "df.describe()"
      ],
      "metadata": {
        "id": "EJNbwmqRoaB3"
      },
      "execution_count": null,
      "outputs": []
    },
    {
      "cell_type": "code",
      "source": [
        "df.isnull().sum()"
      ],
      "metadata": {
        "id": "E56BOyjzof2f"
      },
      "execution_count": null,
      "outputs": []
    },
    {
      "cell_type": "code",
      "source": [
        "[feature for feature in df.columns if df[feature].isnull().sum() > 0]"
      ],
      "metadata": {
        "id": "DVNJt_UtozB2"
      },
      "execution_count": null,
      "outputs": []
    },
    {
      "cell_type": "code",
      "source": [
        "sns.heatmap(df.isnull(), yticklabels = False, cbar = False, cmap = 'viridis')"
      ],
      "metadata": {
        "id": "zrKgRyEtqUYh"
      },
      "execution_count": null,
      "outputs": []
    },
    {
      "cell_type": "code",
      "source": [
        "df_country = pd.read_excel(\"/content/Country-Code.xlsx\")\n",
        "df_country.head()"
      ],
      "metadata": {
        "id": "8aq6ad6BrHkv"
      },
      "execution_count": null,
      "outputs": []
    },
    {
      "cell_type": "code",
      "source": [
        "final_df = pd.merge(df, df_country, on = 'Country Code', how = 'left' )"
      ],
      "metadata": {
        "id": "0cTbQXgvr0Qk"
      },
      "execution_count": null,
      "outputs": []
    },
    {
      "cell_type": "code",
      "source": [
        " final_df.head()"
      ],
      "metadata": {
        "id": "HBF-1mT0sIR2"
      },
      "execution_count": null,
      "outputs": []
    },
    {
      "cell_type": "code",
      "source": [
        "final_df.dtypes"
      ],
      "metadata": {
        "id": "fqoQoruCsrYp"
      },
      "execution_count": null,
      "outputs": []
    },
    {
      "cell_type": "code",
      "source": [
        "country_names = final_df.Country.value_counts().index"
      ],
      "metadata": {
        "id": "ThMVbV42sx7t"
      },
      "execution_count": null,
      "outputs": []
    },
    {
      "cell_type": "code",
      "source": [
        "country_val = final_df.Country.value_counts().values"
      ],
      "metadata": {
        "id": "fjlYnp7LtWQ-"
      },
      "execution_count": null,
      "outputs": []
    },
    {
      "cell_type": "code",
      "source": [
        "plt.pie(country_val[:3], labels=country_names[:3], autopct = '%1.2f%%')"
      ],
      "metadata": {
        "id": "BeSQY9yyts6J"
      },
      "execution_count": null,
      "outputs": []
    },
    {
      "cell_type": "code",
      "source": [
        "ratings = final_df.groupby(['Aggregate rating', 'Rating color', 'Rating text']).size().reset_index().rename(columns = {0:'Rating Count'})"
      ],
      "metadata": {
        "id": "WcPZnUfoukhd"
      },
      "execution_count": null,
      "outputs": []
    },
    {
      "cell_type": "code",
      "source": [
        "ratings.head()"
      ],
      "metadata": {
        "id": "fDa9SYVWxgnR"
      },
      "execution_count": null,
      "outputs": []
    },
    {
      "cell_type": "code",
      "source": [
        "sns.barplot(x = \"Aggregate rating\", y = \"Rating Count\", data = ratings)"
      ],
      "metadata": {
        "id": "KrqSUEuuyvdX"
      },
      "execution_count": null,
      "outputs": []
    },
    {
      "cell_type": "code",
      "source": [
        "plt.rcParams['figure.figsize'] = (12, 6)\n",
        "sns.barplot(x = \"Aggregate rating\", y = \"Rating Count\", hue = \"Rating color\", data = ratings, palette = ['Blue', 'Red', 'Orange', 'Yellow', 'Green', 'Green'])"
      ],
      "metadata": {
        "id": "ziZd40Qe3N_f"
      },
      "execution_count": null,
      "outputs": []
    },
    {
      "cell_type": "code",
      "source": [
        "sns.countplot(x = 'Rating color', data = ratings, palette = ['Blue', 'Red', 'Orange', 'Yellow', 'Green', 'Green'])"
      ],
      "metadata": {
        "id": "UOuLdHrn4Bh0"
      },
      "execution_count": null,
      "outputs": []
    },
    {
      "cell_type": "code",
      "source": [
        "final_df[final_df['Aggregate rating'] == 0].groupby('Country').size().reset_index(name = \"Zero Rating Countries\")"
      ],
      "metadata": {
        "id": "OOBilNbO5akU"
      },
      "execution_count": null,
      "outputs": []
    },
    {
      "cell_type": "code",
      "source": [
        "final_df[['Country', 'Currency']].drop_duplicates().sort_values('Country').reset_index()"
      ],
      "metadata": {
        "id": "pwqPNo5B6fF3"
      },
      "execution_count": null,
      "outputs": []
    },
    {
      "cell_type": "code",
      "source": [
        " final_df[final_df['Has Online delivery'] == 'Yes'].groupby('Country').size().reset_index()"
      ],
      "metadata": {
        "id": "9YIt-T56-Tva"
      },
      "execution_count": null,
      "outputs": []
    },
    {
      "cell_type": "code",
      "source": [
        "final_df[['Has Online delivery', 'Country']].groupby(['Has Online delivery','Country']).size().reset_index()"
      ],
      "metadata": {
        "id": "HaIvGjiuBj4v"
      },
      "execution_count": null,
      "outputs": []
    },
    {
      "cell_type": "code",
      "source": [
        "#top 10 cities pie chart\n",
        "plt.rcParams['figure.figsize'] = (12, 6)\n",
        "city_names = final_df.City.value_counts().index\n",
        "cities_values = final_df.City.value_counts().values\n",
        "plt.pie(cities_values[:5], labels = city_names[:5], autopct = '%1.2f%%')"
      ],
      "metadata": {
        "id": "oF0uQI--B5ze"
      },
      "execution_count": null,
      "outputs": []
    },
    {
      "cell_type": "code",
      "source": [],
      "metadata": {
        "id": "RSuq-xZNuUWu"
      },
      "execution_count": null,
      "outputs": []
    }
  ]
}